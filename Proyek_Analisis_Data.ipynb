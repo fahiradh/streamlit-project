{
  "cells": [
    {
      "cell_type": "markdown",
      "metadata": {
        "id": "H9wADwK78DCz"
      },
      "source": [
        "# Proyek Analisis Data: Bike Sharing Dataser\n",
        "- **Nama:** Fahira Adindiah\n",
        "- **Email:** m010d4kx1699@bangkit.academy\n",
        "- **ID Dicoding:** Fahira Adindiah M010D4KX1699"
      ]
    },
    {
      "cell_type": "markdown",
      "metadata": {
        "id": "eE0raob58DC0"
      },
      "source": [
        "## Menentukan Pertanyaan Bisnis"
      ]
    },
    {
      "cell_type": "markdown",
      "metadata": {
        "id": "GmQeQ5YF8DC0"
      },
      "source": [
        "- Musim dengan jumlah sewa tertinggi\n",
        "- Hari dengan jumlah sewa tertinggi"
      ]
    },
    {
      "cell_type": "markdown",
      "metadata": {
        "id": "H-z4QGlO8DC1"
      },
      "source": [
        "## Import Semua Packages/Library yang Digunakan"
      ]
    },
    {
      "cell_type": "code",
      "execution_count": 3,
      "metadata": {
        "id": "FVYwaObI8DC1"
      },
      "outputs": [],
      "source": [
        "import pandas as pd\n",
        "import numpy as np"
      ]
    },
    {
      "cell_type": "markdown",
      "metadata": {
        "id": "h_Sh51Xy8DC1"
      },
      "source": [
        "## Data Wrangling"
      ]
    },
    {
      "cell_type": "markdown",
      "metadata": {
        "id": "sXU2GBYu8DC1"
      },
      "source": [
        "### Gathering Data"
      ]
    },
    {
      "cell_type": "code",
      "execution_count": 4,
      "metadata": {
        "id": "zjCBk1BI8DC1"
      },
      "outputs": [],
      "source": [
        "df_day = pd.read_csv(\"dataset/day.csv\")\n",
        "df_hour = pd.read_csv(\"dataset/day.csv\")"
      ]
    },
    {
      "cell_type": "markdown",
      "metadata": {
        "id": "FHSiqaZp8DC1"
      },
      "source": [
        "### Assessing Data"
      ]
    },
    {
      "cell_type": "code",
      "execution_count": 5,
      "metadata": {
        "colab": {
          "base_uri": "https://localhost:8080/"
        },
        "id": "ax-3tEjc9Cj1",
        "outputId": "92e08cc7-b048-43cf-a482-114c2d63a18f"
      },
      "outputs": [
        {
          "data": {
            "text/plain": [
              "instant       0\n",
              "dteday        0\n",
              "season        0\n",
              "yr            0\n",
              "mnth          0\n",
              "holiday       0\n",
              "weekday       0\n",
              "workingday    0\n",
              "weathersit    0\n",
              "temp          0\n",
              "atemp         0\n",
              "hum           0\n",
              "windspeed     0\n",
              "casual        0\n",
              "registered    0\n",
              "cnt           0\n",
              "dtype: int64"
            ]
          },
          "execution_count": 5,
          "metadata": {},
          "output_type": "execute_result"
        }
      ],
      "source": [
        "df_day.isnull().sum()"
      ]
    },
    {
      "cell_type": "code",
      "execution_count": 6,
      "metadata": {
        "colab": {
          "base_uri": "https://localhost:8080/"
        },
        "id": "FfURLDvhFI4T",
        "outputId": "4f2812f4-9983-4756-fd89-6e63a276ee4a"
      },
      "outputs": [
        {
          "data": {
            "text/plain": [
              "instant       0\n",
              "dteday        0\n",
              "season        0\n",
              "yr            0\n",
              "mnth          0\n",
              "holiday       0\n",
              "weekday       0\n",
              "workingday    0\n",
              "weathersit    0\n",
              "temp          0\n",
              "atemp         0\n",
              "hum           0\n",
              "windspeed     0\n",
              "casual        0\n",
              "registered    0\n",
              "cnt           0\n",
              "dtype: int64"
            ]
          },
          "execution_count": 6,
          "metadata": {},
          "output_type": "execute_result"
        }
      ],
      "source": [
        "df_hour.isnull().sum()"
      ]
    },
    {
      "cell_type": "code",
      "execution_count": 7,
      "metadata": {
        "colab": {
          "base_uri": "https://localhost:8080/"
        },
        "id": "gCP4lQ96FOaY",
        "outputId": "a203b9cc-7000-400f-8904-f8c155f96f20"
      },
      "outputs": [
        {
          "data": {
            "text/plain": [
              "0"
            ]
          },
          "execution_count": 7,
          "metadata": {},
          "output_type": "execute_result"
        }
      ],
      "source": [
        "df_day.duplicated().sum()"
      ]
    },
    {
      "cell_type": "code",
      "execution_count": 8,
      "metadata": {
        "colab": {
          "base_uri": "https://localhost:8080/"
        },
        "id": "LqdMVcu-FTvL",
        "outputId": "9def45c8-b5ed-400a-e115-d7446748fd8e"
      },
      "outputs": [
        {
          "data": {
            "text/plain": [
              "0"
            ]
          },
          "execution_count": 8,
          "metadata": {},
          "output_type": "execute_result"
        }
      ],
      "source": [
        "df_hour.duplicated().sum()"
      ]
    },
    {
      "cell_type": "code",
      "execution_count": 9,
      "metadata": {
        "id": "2uK42hJ2IjG_"
      },
      "outputs": [],
      "source": [
        "def find_outliers(data):\n",
        "    Q1 = np.percentile(data, 25)\n",
        "    Q3 = np.percentile(data, 75)\n",
        "    IQR = Q3 - Q1\n",
        "    lower_bound = Q1 - 1.5 * IQR\n",
        "    upper_bound = Q3 + 1.5 * IQR\n",
        "    outliers = [x for x in data if x < lower_bound or x > upper_bound]\n",
        "    return len(outliers)"
      ]
    },
    {
      "cell_type": "code",
      "execution_count": 10,
      "metadata": {
        "id": "2ScZE014Ik1B"
      },
      "outputs": [],
      "source": [
        "numeric_columns_hour = df_hour.select_dtypes(include=np.number).columns\n",
        "numeric_columns_day = df_day.select_dtypes(include=np.number).columns"
      ]
    },
    {
      "cell_type": "code",
      "execution_count": 11,
      "metadata": {
        "colab": {
          "base_uri": "https://localhost:8080/"
        },
        "id": "zpV6MCG4Ir4t",
        "outputId": "128e20f6-90d7-4c4b-c576-75bfdf0282d8"
      },
      "outputs": [
        {
          "name": "stdout",
          "output_type": "stream",
          "text": [
            "Hour Outliers Count: {'instant': 0, 'season': 0, 'yr': 0, 'mnth': 0, 'holiday': 21, 'weekday': 0, 'workingday': 0, 'weathersit': 0, 'temp': 0, 'atemp': 0, 'hum': 2, 'windspeed': 13, 'casual': 44, 'registered': 0, 'cnt': 0}\n",
            "Day Outliers Count: {'instant': 0, 'season': 0, 'yr': 0, 'mnth': 0, 'holiday': 21, 'weekday': 0, 'workingday': 0, 'weathersit': 0, 'temp': 0, 'atemp': 0, 'hum': 2, 'windspeed': 13, 'casual': 44, 'registered': 0, 'cnt': 0}\n"
          ]
        }
      ],
      "source": [
        "hour_outliers_count = {}\n",
        "for col in numeric_columns_hour:\n",
        "    outliers_count = find_outliers(df_hour[col])\n",
        "    hour_outliers_count[col] = outliers_count\n",
        "\n",
        "day_outliers_count = {}\n",
        "for col in numeric_columns_day:\n",
        "    outliers_count = find_outliers(df_day[col])\n",
        "    day_outliers_count[col] = outliers_count\n",
        "\n",
        "print(\"Hour Outliers Count:\", hour_outliers_count)\n",
        "print(\"Day Outliers Count:\", day_outliers_count)"
      ]
    },
    {
      "cell_type": "markdown",
      "metadata": {
        "id": "EhN5R4hr8DC1"
      },
      "source": [
        "### Cleaning Data"
      ]
    },
    {
      "cell_type": "code",
      "execution_count": 12,
      "metadata": {
        "id": "0vmmL2hwKjzy"
      },
      "outputs": [],
      "source": [
        "import numpy as np\n",
        "\n",
        "def remove_outliers(data):\n",
        "    Q1 = np.percentile(data, 25)\n",
        "    Q3 = np.percentile(data, 75)\n",
        "    IQR = Q3 - Q1\n",
        "    lower_bound = Q1 - 1.5 * IQR\n",
        "    upper_bound = Q3 + 1.5 * IQR\n",
        "    cleaned_data = data[(data >= lower_bound) & (data <= upper_bound)]\n",
        "    return cleaned_data\n",
        "\n",
        "def drop_outliers_per_column(df):\n",
        "    numeric_columns = df.select_dtypes(include=np.number).columns\n",
        "    cleaned_df = df.copy()\n",
        "    for col in numeric_columns:\n",
        "        cleaned_df = cleaned_df.loc[remove_outliers(cleaned_df[col]).index]\n",
        "    return cleaned_df\n",
        "\n",
        "cleaned_df_hour = drop_outliers_per_column(df_hour)\n",
        "cleaned_df_day = drop_outliers_per_column(df_day)"
      ]
    },
    {
      "cell_type": "markdown",
      "metadata": {
        "id": "gp-Y6wU38DC1"
      },
      "source": [
        "## Exploratory Data Analysis (EDA)"
      ]
    },
    {
      "cell_type": "code",
      "execution_count": 13,
      "metadata": {
        "colab": {
          "base_uri": "https://localhost:8080/",
          "height": 432
        },
        "id": "e9CQCZjk8DC2",
        "outputId": "3d31e79a-b452-4824-a9a9-023bc2006492"
      },
      "outputs": [
        {
          "data": {
            "text/html": [
              "<div>\n",
              "<style scoped>\n",
              "    .dataframe tbody tr th:only-of-type {\n",
              "        vertical-align: middle;\n",
              "    }\n",
              "\n",
              "    .dataframe tbody tr th {\n",
              "        vertical-align: top;\n",
              "    }\n",
              "\n",
              "    .dataframe thead th {\n",
              "        text-align: right;\n",
              "    }\n",
              "</style>\n",
              "<table border=\"1\" class=\"dataframe\">\n",
              "  <thead>\n",
              "    <tr style=\"text-align: right;\">\n",
              "      <th></th>\n",
              "      <th>instant</th>\n",
              "      <th>dteday</th>\n",
              "      <th>season</th>\n",
              "      <th>yr</th>\n",
              "      <th>mnth</th>\n",
              "      <th>holiday</th>\n",
              "      <th>weekday</th>\n",
              "      <th>workingday</th>\n",
              "      <th>weathersit</th>\n",
              "      <th>temp</th>\n",
              "      <th>atemp</th>\n",
              "      <th>hum</th>\n",
              "      <th>windspeed</th>\n",
              "      <th>casual</th>\n",
              "      <th>registered</th>\n",
              "      <th>cnt</th>\n",
              "    </tr>\n",
              "  </thead>\n",
              "  <tbody>\n",
              "    <tr>\n",
              "      <th>count</th>\n",
              "      <td>655.000000</td>\n",
              "      <td>655</td>\n",
              "      <td>655.000000</td>\n",
              "      <td>655.000000</td>\n",
              "      <td>655.000000</td>\n",
              "      <td>655.0</td>\n",
              "      <td>655.000000</td>\n",
              "      <td>655.000000</td>\n",
              "      <td>655.000000</td>\n",
              "      <td>655.000000</td>\n",
              "      <td>655.000000</td>\n",
              "      <td>655.000000</td>\n",
              "      <td>655.000000</td>\n",
              "      <td>655.00000</td>\n",
              "      <td>655.000000</td>\n",
              "      <td>655.000000</td>\n",
              "    </tr>\n",
              "    <tr>\n",
              "      <th>unique</th>\n",
              "      <td>NaN</td>\n",
              "      <td>655</td>\n",
              "      <td>NaN</td>\n",
              "      <td>NaN</td>\n",
              "      <td>NaN</td>\n",
              "      <td>NaN</td>\n",
              "      <td>NaN</td>\n",
              "      <td>NaN</td>\n",
              "      <td>NaN</td>\n",
              "      <td>NaN</td>\n",
              "      <td>NaN</td>\n",
              "      <td>NaN</td>\n",
              "      <td>NaN</td>\n",
              "      <td>NaN</td>\n",
              "      <td>NaN</td>\n",
              "      <td>NaN</td>\n",
              "    </tr>\n",
              "    <tr>\n",
              "      <th>top</th>\n",
              "      <td>NaN</td>\n",
              "      <td>2011-01-01</td>\n",
              "      <td>NaN</td>\n",
              "      <td>NaN</td>\n",
              "      <td>NaN</td>\n",
              "      <td>NaN</td>\n",
              "      <td>NaN</td>\n",
              "      <td>NaN</td>\n",
              "      <td>NaN</td>\n",
              "      <td>NaN</td>\n",
              "      <td>NaN</td>\n",
              "      <td>NaN</td>\n",
              "      <td>NaN</td>\n",
              "      <td>NaN</td>\n",
              "      <td>NaN</td>\n",
              "      <td>NaN</td>\n",
              "    </tr>\n",
              "    <tr>\n",
              "      <th>freq</th>\n",
              "      <td>NaN</td>\n",
              "      <td>1</td>\n",
              "      <td>NaN</td>\n",
              "      <td>NaN</td>\n",
              "      <td>NaN</td>\n",
              "      <td>NaN</td>\n",
              "      <td>NaN</td>\n",
              "      <td>NaN</td>\n",
              "      <td>NaN</td>\n",
              "      <td>NaN</td>\n",
              "      <td>NaN</td>\n",
              "      <td>NaN</td>\n",
              "      <td>NaN</td>\n",
              "      <td>NaN</td>\n",
              "      <td>NaN</td>\n",
              "      <td>NaN</td>\n",
              "    </tr>\n",
              "    <tr>\n",
              "      <th>mean</th>\n",
              "      <td>357.366412</td>\n",
              "      <td>NaN</td>\n",
              "      <td>2.506870</td>\n",
              "      <td>0.474809</td>\n",
              "      <td>6.545038</td>\n",
              "      <td>0.0</td>\n",
              "      <td>2.993893</td>\n",
              "      <td>0.748092</td>\n",
              "      <td>1.407634</td>\n",
              "      <td>0.491363</td>\n",
              "      <td>0.470946</td>\n",
              "      <td>0.633358</td>\n",
              "      <td>0.186224</td>\n",
              "      <td>737.60000</td>\n",
              "      <td>3660.157252</td>\n",
              "      <td>4397.757252</td>\n",
              "    </tr>\n",
              "    <tr>\n",
              "      <th>std</th>\n",
              "      <td>211.948901</td>\n",
              "      <td>NaN</td>\n",
              "      <td>1.118184</td>\n",
              "      <td>0.499747</td>\n",
              "      <td>3.482684</td>\n",
              "      <td>0.0</td>\n",
              "      <td>1.929164</td>\n",
              "      <td>0.434441</td>\n",
              "      <td>0.550454</td>\n",
              "      <td>0.185020</td>\n",
              "      <td>0.164436</td>\n",
              "      <td>0.140990</td>\n",
              "      <td>0.072228</td>\n",
              "      <td>522.93126</td>\n",
              "      <td>1570.067857</td>\n",
              "      <td>1854.957213</td>\n",
              "    </tr>\n",
              "    <tr>\n",
              "      <th>min</th>\n",
              "      <td>1.000000</td>\n",
              "      <td>NaN</td>\n",
              "      <td>1.000000</td>\n",
              "      <td>0.000000</td>\n",
              "      <td>1.000000</td>\n",
              "      <td>0.0</td>\n",
              "      <td>0.000000</td>\n",
              "      <td>0.000000</td>\n",
              "      <td>1.000000</td>\n",
              "      <td>0.059130</td>\n",
              "      <td>0.079070</td>\n",
              "      <td>0.275833</td>\n",
              "      <td>0.022392</td>\n",
              "      <td>2.00000</td>\n",
              "      <td>20.000000</td>\n",
              "      <td>22.000000</td>\n",
              "    </tr>\n",
              "    <tr>\n",
              "      <th>25%</th>\n",
              "      <td>174.500000</td>\n",
              "      <td>NaN</td>\n",
              "      <td>1.500000</td>\n",
              "      <td>0.000000</td>\n",
              "      <td>3.500000</td>\n",
              "      <td>0.0</td>\n",
              "      <td>1.000000</td>\n",
              "      <td>0.000000</td>\n",
              "      <td>1.000000</td>\n",
              "      <td>0.330833</td>\n",
              "      <td>0.329850</td>\n",
              "      <td>0.524900</td>\n",
              "      <td>0.133721</td>\n",
              "      <td>303.50000</td>\n",
              "      <td>2506.500000</td>\n",
              "      <td>3129.000000</td>\n",
              "    </tr>\n",
              "    <tr>\n",
              "      <th>50%</th>\n",
              "      <td>348.000000</td>\n",
              "      <td>NaN</td>\n",
              "      <td>3.000000</td>\n",
              "      <td>0.000000</td>\n",
              "      <td>7.000000</td>\n",
              "      <td>0.0</td>\n",
              "      <td>3.000000</td>\n",
              "      <td>1.000000</td>\n",
              "      <td>1.000000</td>\n",
              "      <td>0.485833</td>\n",
              "      <td>0.474117</td>\n",
              "      <td>0.630833</td>\n",
              "      <td>0.176625</td>\n",
              "      <td>684.00000</td>\n",
              "      <td>3643.000000</td>\n",
              "      <td>4456.000000</td>\n",
              "    </tr>\n",
              "    <tr>\n",
              "      <th>75%</th>\n",
              "      <td>544.500000</td>\n",
              "      <td>NaN</td>\n",
              "      <td>3.000000</td>\n",
              "      <td>1.000000</td>\n",
              "      <td>10.000000</td>\n",
              "      <td>0.0</td>\n",
              "      <td>5.000000</td>\n",
              "      <td>1.000000</td>\n",
              "      <td>2.000000</td>\n",
              "      <td>0.653750</td>\n",
              "      <td>0.607960</td>\n",
              "      <td>0.734583</td>\n",
              "      <td>0.230723</td>\n",
              "      <td>1028.00000</td>\n",
              "      <td>4737.000000</td>\n",
              "      <td>5651.000000</td>\n",
              "    </tr>\n",
              "    <tr>\n",
              "      <th>max</th>\n",
              "      <td>731.000000</td>\n",
              "      <td>NaN</td>\n",
              "      <td>4.000000</td>\n",
              "      <td>1.000000</td>\n",
              "      <td>12.000000</td>\n",
              "      <td>0.0</td>\n",
              "      <td>6.000000</td>\n",
              "      <td>1.000000</td>\n",
              "      <td>3.000000</td>\n",
              "      <td>0.861667</td>\n",
              "      <td>0.840896</td>\n",
              "      <td>0.972500</td>\n",
              "      <td>0.378108</td>\n",
              "      <td>2258.00000</td>\n",
              "      <td>6946.000000</td>\n",
              "      <td>8173.000000</td>\n",
              "    </tr>\n",
              "  </tbody>\n",
              "</table>\n",
              "</div>"
            ],
            "text/plain": [
              "           instant      dteday      season          yr        mnth  holiday  \\\n",
              "count   655.000000         655  655.000000  655.000000  655.000000    655.0   \n",
              "unique         NaN         655         NaN         NaN         NaN      NaN   \n",
              "top            NaN  2011-01-01         NaN         NaN         NaN      NaN   \n",
              "freq           NaN           1         NaN         NaN         NaN      NaN   \n",
              "mean    357.366412         NaN    2.506870    0.474809    6.545038      0.0   \n",
              "std     211.948901         NaN    1.118184    0.499747    3.482684      0.0   \n",
              "min       1.000000         NaN    1.000000    0.000000    1.000000      0.0   \n",
              "25%     174.500000         NaN    1.500000    0.000000    3.500000      0.0   \n",
              "50%     348.000000         NaN    3.000000    0.000000    7.000000      0.0   \n",
              "75%     544.500000         NaN    3.000000    1.000000   10.000000      0.0   \n",
              "max     731.000000         NaN    4.000000    1.000000   12.000000      0.0   \n",
              "\n",
              "           weekday  workingday  weathersit        temp       atemp  \\\n",
              "count   655.000000  655.000000  655.000000  655.000000  655.000000   \n",
              "unique         NaN         NaN         NaN         NaN         NaN   \n",
              "top            NaN         NaN         NaN         NaN         NaN   \n",
              "freq           NaN         NaN         NaN         NaN         NaN   \n",
              "mean      2.993893    0.748092    1.407634    0.491363    0.470946   \n",
              "std       1.929164    0.434441    0.550454    0.185020    0.164436   \n",
              "min       0.000000    0.000000    1.000000    0.059130    0.079070   \n",
              "25%       1.000000    0.000000    1.000000    0.330833    0.329850   \n",
              "50%       3.000000    1.000000    1.000000    0.485833    0.474117   \n",
              "75%       5.000000    1.000000    2.000000    0.653750    0.607960   \n",
              "max       6.000000    1.000000    3.000000    0.861667    0.840896   \n",
              "\n",
              "               hum   windspeed      casual   registered          cnt  \n",
              "count   655.000000  655.000000   655.00000   655.000000   655.000000  \n",
              "unique         NaN         NaN         NaN          NaN          NaN  \n",
              "top            NaN         NaN         NaN          NaN          NaN  \n",
              "freq           NaN         NaN         NaN          NaN          NaN  \n",
              "mean      0.633358    0.186224   737.60000  3660.157252  4397.757252  \n",
              "std       0.140990    0.072228   522.93126  1570.067857  1854.957213  \n",
              "min       0.275833    0.022392     2.00000    20.000000    22.000000  \n",
              "25%       0.524900    0.133721   303.50000  2506.500000  3129.000000  \n",
              "50%       0.630833    0.176625   684.00000  3643.000000  4456.000000  \n",
              "75%       0.734583    0.230723  1028.00000  4737.000000  5651.000000  \n",
              "max       0.972500    0.378108  2258.00000  6946.000000  8173.000000  "
            ]
          },
          "execution_count": 13,
          "metadata": {},
          "output_type": "execute_result"
        }
      ],
      "source": [
        "cleaned_df_hour.describe(include=\"all\")"
      ]
    },
    {
      "cell_type": "code",
      "execution_count": 14,
      "metadata": {
        "colab": {
          "base_uri": "https://localhost:8080/"
        },
        "id": "VcAIdF2sMMSm",
        "outputId": "fe417569-957a-42c8-ba15-211b1dfa84cf"
      },
      "outputs": [
        {
          "data": {
            "text/plain": [
              "season\n",
              "1    164\n",
              "2    158\n",
              "3    170\n",
              "4    163\n",
              "Name: cnt, dtype: int64"
            ]
          },
          "execution_count": 14,
          "metadata": {},
          "output_type": "execute_result"
        }
      ],
      "source": [
        "cleaned_df_day.groupby(by=\"season\").cnt.count()"
      ]
    },
    {
      "cell_type": "code",
      "execution_count": 15,
      "metadata": {
        "colab": {
          "base_uri": "https://localhost:8080/"
        },
        "id": "eddDz_EDM4m5",
        "outputId": "e4775339-5e7d-4409-efe7-072c65c5263e"
      },
      "outputs": [
        {
          "name": "stdout",
          "output_type": "stream",
          "text": [
            "1:Springer, 2:Summer, 3:Fall, 4:Winter)\n"
          ]
        }
      ],
      "source": [
        "print(\"1:Springer, 2:Summer, 3:Fall, 4:Winter)\")"
      ]
    },
    {
      "cell_type": "code",
      "execution_count": 16,
      "metadata": {
        "colab": {
          "base_uri": "https://localhost:8080/"
        },
        "id": "ZV0YEAQBM_I5",
        "outputId": "fd89dfa1-ec51-462e-8521-0542fb483de3"
      },
      "outputs": [
        {
          "data": {
            "text/plain": [
              "weekday\n",
              "0     87\n",
              "1     87\n",
              "2    102\n",
              "3    102\n",
              "4     99\n",
              "5    100\n",
              "6     78\n",
              "Name: cnt, dtype: int64"
            ]
          },
          "execution_count": 16,
          "metadata": {},
          "output_type": "execute_result"
        }
      ],
      "source": [
        "cleaned_df_day.groupby(by=\"weekday\").cnt.count()"
      ]
    },
    {
      "cell_type": "markdown",
      "metadata": {
        "id": "zsyZjqak8DC2"
      },
      "source": [
        "## Visualization & Explanatory Analysis"
      ]
    },
    {
      "cell_type": "markdown",
      "metadata": {
        "id": "HZxOiQ6n8DC2"
      },
      "source": [
        "### Pertanyaan 1: Musim dengan jumlah sewa tertinggi"
      ]
    },
    {
      "cell_type": "code",
      "execution_count": 17,
      "metadata": {
        "colab": {
          "base_uri": "https://localhost:8080/",
          "height": 472
        },
        "id": "1swJUdAD8DC2",
        "outputId": "862d517b-feb5-4ea9-f9b9-b8160bf8a79e"
      },
      "outputs": [
        {
          "data": {
            "image/png": "[encoded data removed]",
            "text/plain": [
              "<Figure size 640x480 with 1 Axes>"
            ]
          },
          "metadata": {},
          "output_type": "display_data"
        }
      ],
      "source": [
        "import matplotlib.pyplot as plt\n",
        "\n",
        "season_counts = cleaned_df_day.groupby(by=\"season\").cnt.count()\n",
        "season_counts.index = season_counts.index.map({1: 'Spring', 2: 'Summer', 3: 'Fall', 4: 'Winter'})\n",
        "\n",
        "plt.bar(season_counts.index, season_counts)\n",
        "\n",
        "plt.title('Jumlah Sewa Berdasarkan Musim')\n",
        "plt.xlabel('Musim')\n",
        "plt.ylabel('Jumlah Sewa')\n",
        "\n",
        "plt.show()"
      ]
    },
    {
      "cell_type": "markdown",
      "metadata": {
        "id": "DgHI7CiU8DC2"
      },
      "source": [
        "### Pertanyaan 2: Hari dengan jumlah sewa tertinggi"
      ]
    },
    {
      "cell_type": "code",
      "execution_count": 18,
      "metadata": {
        "colab": {
          "base_uri": "https://localhost:8080/",
          "height": 675
        },
        "id": "Go0lCsvO8DC2",
        "outputId": "9dc05ca3-bf67-4633-9cd5-850a100dc638"
      },
      "outputs": [
        {
          "data": {
            "image/png": "[encoded data removed]",
            "text/plain": [
              "<Figure size 800x800 with 1 Axes>"
            ]
          },
          "metadata": {},
          "output_type": "display_data"
        }
      ],
      "source": [
        "weekday_counts = cleaned_df_day.groupby(by=\"weekday\").cnt.count()\n",
        "\n",
        "plt.figure(figsize=(8, 8))\n",
        "weekday_counts.index = weekday_counts.index.map({0: 'Senin', 1: 'Selasa', 2: 'Rabu', 3: 'Kamis', 4: 'Jumat', 5: 'Sabtu', 6: 'Minggu'})\n",
        "plt.pie(weekday_counts, labels=weekday_counts.index, autopct='%1.1f%%', startangle=140)\n",
        "\n",
        "plt.title('Persentase Jumlah Sewa Berdasarkan Hari dalam Seminggu')\n",
        "plt.show()"
      ]
    },
    {
      "cell_type": "markdown",
      "metadata": {
        "id": "_WeHlCeX8DC2"
      },
      "source": [
        "## Conclusion"
      ]
    },
    {
      "cell_type": "markdown",
      "metadata": {
        "id": "ZTcyR48Y8DC2"
      },
      "source": [
        "- Jumlah sewa harian tertinggi terjadi pada musim Fall (gugur)\n",
        "- Jumlah sewa harian tertinggi terjadi pada Kamis atau Rabu"
      ]
    }
  ],
  "metadata": {
    "colab": {
      "provenance": [],
      "toc_visible": true
    },
    "kernelspec": {
      "display_name": "Python 3",
      "language": "python",
      "name": "python3"
    },
    "language_info": {
      "codemirror_mode": {
        "name": "ipython",
        "version": 3
      },
      "file_extension": ".py",
      "mimetype": "text/x-python",
      "name": "python",
      "nbconvert_exporter": "python",
      "pygments_lexer": "ipython3",
      "version": "3.10.1"
    },
    "orig_nbformat": 4,
    "vscode": {
      "interpreter": {
        "hash": "972b3bf27e332e87b5379f2791f6ef9dfc79c71018c370b0d7423235e20fe4d7"
      }
    }
  },
  "nbformat": 4,
  "nbformat_minor": 0
}
