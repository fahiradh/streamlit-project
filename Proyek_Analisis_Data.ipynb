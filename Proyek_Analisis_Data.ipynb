{
  "cells": [
    {
      "cell_type": "markdown",
      "metadata": {
        "id": "H9wADwK78DCz"
      },
      "source": [
        "# Proyek Analisis Data: Bike Sharing Dataser\n",
        "- **Nama:** Fahira Adindiah\n",
        "- **Email:** m010d4kx1699@bangkit.academy\n",
        "- **ID Dicoding:** Fahira Adindiah M010D4KX1699"
      ]
    },
    {
      "cell_type": "markdown",
      "metadata": {
        "id": "eE0raob58DC0"
      },
      "source": [
        "## Menentukan Pertanyaan Bisnis"
      ]
    },
    {
      "cell_type": "markdown",
      "metadata": {
        "id": "GmQeQ5YF8DC0"
      },
      "source": [
        "- Musim dengan jumlah sewa tertinggi\n",
        "- Hari dengan jumlah sewa tertinggi"
      ]
    },
    {
      "cell_type": "markdown",
      "source": [],
      "metadata": {
        "id": "PEuGcExOqQ0v"
      }
    },
    {
      "cell_type": "markdown",
      "metadata": {
        "id": "H-z4QGlO8DC1"
      },
      "source": [
        "## Import Semua Packages/Library yang Digunakan"
      ]
    },
    {
      "cell_type": "code",
      "execution_count": 4,
      "metadata": {
        "id": "FVYwaObI8DC1"
      },
      "outputs": [],
      "source": [
        "import pandas as pd\n",
        "import numpy as np"
      ]
    },
    {
      "cell_type": "markdown",
      "metadata": {
        "id": "h_Sh51Xy8DC1"
      },
      "source": [
        "## Data Wrangling"
      ]
    },
    {
      "cell_type": "markdown",
      "metadata": {
        "id": "sXU2GBYu8DC1"
      },
      "source": [
        "### Gathering Data"
      ]
    },
    {
      "cell_type": "code",
      "execution_count": 6,
      "metadata": {
        "id": "zjCBk1BI8DC1"
      },
      "outputs": [],
      "source": [
        "df_day = pd.read_csv(\"/day.csv\")\n",
        "df_hour = pd.read_csv(\"/hour.csv\")"
      ]
    },
    {
      "cell_type": "markdown",
      "metadata": {
        "id": "FHSiqaZp8DC1"
      },
      "source": [
        "### Assessing Data"
      ]
    },
    {
      "cell_type": "code",
      "source": [
        "print(\"Jumlah null values dalam dataset day\")\n",
        "print(df_day.isnull().sum())"
      ],
      "metadata": {
        "id": "ax-3tEjc9Cj1",
        "colab": {
          "base_uri": "https://localhost:8080/"
        },
        "outputId": "c56cf930-b969-4ca7-aff9-b111b965f609"
      },
      "execution_count": 8,
      "outputs": [
        {
          "output_type": "stream",
          "name": "stdout",
          "text": [
            "Jumlah null values dalam dataset\n",
            "instant       0\n",
            "dteday        0\n",
            "season        0\n",
            "yr            0\n",
            "mnth          0\n",
            "holiday       0\n",
            "weekday       0\n",
            "workingday    0\n",
            "weathersit    0\n",
            "temp          0\n",
            "atemp         0\n",
            "hum           0\n",
            "windspeed     0\n",
            "casual        0\n",
            "registered    0\n",
            "cnt           0\n",
            "dtype: int64\n"
          ]
        }
      ]
    },
    {
      "cell_type": "code",
      "source": [
        "print(\"Jumlah null values dalam dataset hour\")\n",
        "print(df_hour.isnull().sum())"
      ],
      "metadata": {
        "colab": {
          "base_uri": "https://localhost:8080/"
        },
        "id": "FfURLDvhFI4T",
        "outputId": "8c166737-9641-455f-f922-1843eda37915"
      },
      "execution_count": 10,
      "outputs": [
        {
          "output_type": "stream",
          "name": "stdout",
          "text": [
            "Jumlah null values dalam dataset hour\n",
            "instant       0\n",
            "dteday        0\n",
            "season        0\n",
            "yr            0\n",
            "mnth          0\n",
            "hr            0\n",
            "holiday       0\n",
            "weekday       0\n",
            "workingday    0\n",
            "weathersit    0\n",
            "temp          0\n",
            "atemp         0\n",
            "hum           0\n",
            "windspeed     0\n",
            "casual        0\n",
            "registered    0\n",
            "cnt           0\n",
            "dtype: int64\n"
          ]
        }
      ]
    },
    {
      "cell_type": "code",
      "source": [
        "print(\"Jumlah data duplikat dalam dataset day\")\n",
        "print(df_day.duplicated().sum())"
      ],
      "metadata": {
        "colab": {
          "base_uri": "https://localhost:8080/"
        },
        "id": "gCP4lQ96FOaY",
        "outputId": "d497f1a9-e6c3-43a2-96b0-ab42c8b5b53c"
      },
      "execution_count": 11,
      "outputs": [
        {
          "output_type": "stream",
          "name": "stdout",
          "text": [
            "Jumlah data duplikat dalam dataset day\n",
            "0\n"
          ]
        }
      ]
    },
    {
      "cell_type": "code",
      "source": [
        "print(\"Jumlah data duplikat dalam dataset hour\")\n",
        "print(df_hour.duplicated().sum())"
      ],
      "metadata": {
        "colab": {
          "base_uri": "https://localhost:8080/"
        },
        "id": "LqdMVcu-FTvL",
        "outputId": "4011614d-0bdc-493f-fa8f-ebe643cf7eb6"
      },
      "execution_count": 12,
      "outputs": [
        {
          "output_type": "stream",
          "name": "stdout",
          "text": [
            "Jumlah data duplikat dalam dataset hour\n",
            "0\n"
          ]
        }
      ]
    },
    {
      "cell_type": "code",
      "source": [
        "def find_outliers(data):\n",
        "    Q1 = np.percentile(data, 25)\n",
        "    Q3 = np.percentile(data, 75)\n",
        "    IQR = Q3 - Q1\n",
        "    lower_bound = Q1 - 1.5 * IQR\n",
        "    upper_bound = Q3 + 1.5 * IQR\n",
        "    outliers = [x for x in data if x < lower_bound or x > upper_bound]\n",
        "    return len(outliers)"
      ],
      "metadata": {
        "id": "2uK42hJ2IjG_"
      },
      "execution_count": 13,
      "outputs": []
    },
    {
      "cell_type": "code",
      "source": [
        "numeric_columns_hour = df_hour.select_dtypes(include=np.number).columns\n",
        "numeric_columns_day = df_day.select_dtypes(include=np.number).columns"
      ],
      "metadata": {
        "id": "2ScZE014Ik1B"
      },
      "execution_count": 14,
      "outputs": []
    },
    {
      "cell_type": "code",
      "source": [
        "hour_outliers_count = {}\n",
        "for col in numeric_columns_hour:\n",
        "    outliers_count = find_outliers(df_hour[col])\n",
        "    hour_outliers_count[col] = outliers_count\n",
        "\n",
        "day_outliers_count = {}\n",
        "for col in numeric_columns_day:\n",
        "    outliers_count = find_outliers(df_day[col])\n",
        "    day_outliers_count[col] = outliers_count\n",
        "\n",
        "print(\"Jumlah data outlier di dataset hour:\", hour_outliers_count)\n",
        "print(\"Jumlah data outlier di dataset day:\", day_outliers_count)"
      ],
      "metadata": {
        "colab": {
          "base_uri": "https://localhost:8080/"
        },
        "id": "zpV6MCG4Ir4t",
        "outputId": "9a56f34d-4f13-4fbe-9159-254e78d0623c"
      },
      "execution_count": 16,
      "outputs": [
        {
          "output_type": "stream",
          "name": "stdout",
          "text": [
            "Jumlah data outlier di dataset hour: {'instant': 0, 'season': 0, 'yr': 0, 'mnth': 0, 'hr': 0, 'holiday': 500, 'weekday': 0, 'workingday': 0, 'weathersit': 3, 'temp': 0, 'atemp': 0, 'hum': 22, 'windspeed': 342, 'casual': 1192, 'registered': 680, 'cnt': 505}\n",
            "Jumlah data outlier di dataset day: {'instant': 0, 'season': 0, 'yr': 0, 'mnth': 0, 'holiday': 21, 'weekday': 0, 'workingday': 0, 'weathersit': 0, 'temp': 0, 'atemp': 0, 'hum': 2, 'windspeed': 13, 'casual': 44, 'registered': 0, 'cnt': 0}\n"
          ]
        }
      ]
    },
    {
      "cell_type": "markdown",
      "metadata": {
        "id": "EhN5R4hr8DC1"
      },
      "source": [
        "### Cleaning Data"
      ]
    },
    {
      "cell_type": "code",
      "source": [
        "import numpy as np\n",
        "\n",
        "def remove_outliers(data):\n",
        "    Q1 = np.percentile(data, 25)\n",
        "    Q3 = np.percentile(data, 75)\n",
        "    IQR = Q3 - Q1\n",
        "    lower_bound = Q1 - 1.5 * IQR\n",
        "    upper_bound = Q3 + 1.5 * IQR\n",
        "    cleaned_data = data[(data >= lower_bound) & (data <= upper_bound)]\n",
        "    return cleaned_data\n",
        "\n",
        "def drop_outliers_per_column(df):\n",
        "    numeric_columns = df.select_dtypes(include=np.number).columns\n",
        "    cleaned_df = df.copy()\n",
        "    for col in numeric_columns:\n",
        "        cleaned_df = cleaned_df.loc[remove_outliers(cleaned_df[col]).index]\n",
        "    return cleaned_df\n",
        "\n",
        "cleaned_df_hour = drop_outliers_per_column(df_hour)\n",
        "cleaned_df_day = drop_outliers_per_column(df_day)"
      ],
      "metadata": {
        "id": "0vmmL2hwKjzy"
      },
      "execution_count": 17,
      "outputs": []
    },
    {
      "cell_type": "markdown",
      "metadata": {
        "id": "gp-Y6wU38DC1"
      },
      "source": [
        "## Exploratory Data Analysis (EDA)"
      ]
    },
    {
      "cell_type": "code",
      "source": [
        "cleaned_df_hour.info()"
      ],
      "metadata": {
        "colab": {
          "base_uri": "https://localhost:8080/"
        },
        "id": "Ef3Q3at4rtTM",
        "outputId": "f2dadecf-7840-435e-f9fa-9ab0acb11525"
      },
      "execution_count": 20,
      "outputs": [
        {
          "output_type": "stream",
          "name": "stdout",
          "text": [
            "<class 'pandas.core.frame.DataFrame'>\n",
            "Int64Index: 14534 entries, 0 to 17378\n",
            "Data columns (total 17 columns):\n",
            " #   Column      Non-Null Count  Dtype  \n",
            "---  ------      --------------  -----  \n",
            " 0   instant     14534 non-null  int64  \n",
            " 1   dteday      14534 non-null  object \n",
            " 2   season      14534 non-null  int64  \n",
            " 3   yr          14534 non-null  int64  \n",
            " 4   mnth        14534 non-null  int64  \n",
            " 5   hr          14534 non-null  int64  \n",
            " 6   holiday     14534 non-null  int64  \n",
            " 7   weekday     14534 non-null  int64  \n",
            " 8   workingday  14534 non-null  int64  \n",
            " 9   weathersit  14534 non-null  int64  \n",
            " 10  temp        14534 non-null  float64\n",
            " 11  atemp       14534 non-null  float64\n",
            " 12  hum         14534 non-null  float64\n",
            " 13  windspeed   14534 non-null  float64\n",
            " 14  casual      14534 non-null  int64  \n",
            " 15  registered  14534 non-null  int64  \n",
            " 16  cnt         14534 non-null  int64  \n",
            "dtypes: float64(4), int64(12), object(1)\n",
            "memory usage: 2.0+ MB\n"
          ]
        }
      ]
    },
    {
      "cell_type": "code",
      "source": [
        "cleaned_df_day.info()"
      ],
      "metadata": {
        "colab": {
          "base_uri": "https://localhost:8080/"
        },
        "id": "fAK4XyPsrwHN",
        "outputId": "444f4677-a9c3-4224-8053-21eb23cdd0c9"
      },
      "execution_count": 21,
      "outputs": [
        {
          "output_type": "stream",
          "name": "stdout",
          "text": [
            "<class 'pandas.core.frame.DataFrame'>\n",
            "Int64Index: 655 entries, 0 to 730\n",
            "Data columns (total 16 columns):\n",
            " #   Column      Non-Null Count  Dtype  \n",
            "---  ------      --------------  -----  \n",
            " 0   instant     655 non-null    int64  \n",
            " 1   dteday      655 non-null    object \n",
            " 2   season      655 non-null    int64  \n",
            " 3   yr          655 non-null    int64  \n",
            " 4   mnth        655 non-null    int64  \n",
            " 5   holiday     655 non-null    int64  \n",
            " 6   weekday     655 non-null    int64  \n",
            " 7   workingday  655 non-null    int64  \n",
            " 8   weathersit  655 non-null    int64  \n",
            " 9   temp        655 non-null    float64\n",
            " 10  atemp       655 non-null    float64\n",
            " 11  hum         655 non-null    float64\n",
            " 12  windspeed   655 non-null    float64\n",
            " 13  casual      655 non-null    int64  \n",
            " 14  registered  655 non-null    int64  \n",
            " 15  cnt         655 non-null    int64  \n",
            "dtypes: float64(4), int64(11), object(1)\n",
            "memory usage: 87.0+ KB\n"
          ]
        }
      ]
    },
    {
      "cell_type": "code",
      "source": [
        "cleaned_df_day.groupby(by=\"season\").cnt.count()"
      ],
      "metadata": {
        "colab": {
          "base_uri": "https://localhost:8080/"
        },
        "id": "VcAIdF2sMMSm",
        "outputId": "49771112-35b8-4d53-db45-502be9fb8f73"
      },
      "execution_count": 22,
      "outputs": [
        {
          "output_type": "execute_result",
          "data": {
            "text/plain": [
              "season\n",
              "1    164\n",
              "2    158\n",
              "3    170\n",
              "4    163\n",
              "Name: cnt, dtype: int64"
            ]
          },
          "metadata": {},
          "execution_count": 22
        }
      ]
    },
    {
      "cell_type": "code",
      "source": [
        "cleaned_df_day.groupby(by=\"weekday\").cnt.count()"
      ],
      "metadata": {
        "colab": {
          "base_uri": "https://localhost:8080/"
        },
        "id": "ZV0YEAQBM_I5",
        "outputId": "7530a49b-59ba-4dba-e5bc-8cd151e6d8bc"
      },
      "execution_count": 23,
      "outputs": [
        {
          "output_type": "execute_result",
          "data": {
            "text/plain": [
              "weekday\n",
              "0     87\n",
              "1     87\n",
              "2    102\n",
              "3    102\n",
              "4     99\n",
              "5    100\n",
              "6     78\n",
              "Name: cnt, dtype: int64"
            ]
          },
          "metadata": {},
          "execution_count": 23
        }
      ]
    },
    {
      "cell_type": "markdown",
      "metadata": {
        "id": "zsyZjqak8DC2"
      },
      "source": [
        "## Visualization & Explanatory Analysis"
      ]
    },
    {
      "cell_type": "markdown",
      "metadata": {
        "id": "HZxOiQ6n8DC2"
      },
      "source": [
        "### Pertanyaan 1: Musim dengan jumlah sewa harian tertinggi"
      ]
    },
    {
      "cell_type": "code",
      "execution_count": 25,
      "metadata": {
        "id": "1swJUdAD8DC2",
        "colab": {
          "base_uri": "https://localhost:8080/",
          "height": 472
        },
        "outputId": "76b511d1-4c7d-44a7-e5a6-4902a8a8be2b"
      },
      "outputs": [
        {
          "output_type": "display_data",
          "data": {
            "text/plain": [
              "<Figure size 640x480 with 1 Axes>"
            ],
            "image/png": "[encoded data removed]"
          },
          "metadata": {}
        }
      ],
      "source": [
        "import matplotlib.pyplot as plt\n",
        "\n",
        "season_counts = cleaned_df_day.groupby(by=\"season\").cnt.count()\n",
        "season_counts.index = season_counts.index.map({1: 'Spring', 2: 'Summer', 3: 'Fall', 4: 'Winter'})\n",
        "\n",
        "plt.bar(season_counts.index, season_counts)\n",
        "\n",
        "plt.title('Jumlah Hari Berdasarkan Musim')\n",
        "plt.xlabel('Musim')\n",
        "plt.ylabel('Total Sewa Harian')\n",
        "\n",
        "plt.show()"
      ]
    },
    {
      "cell_type": "markdown",
      "metadata": {
        "id": "DgHI7CiU8DC2"
      },
      "source": [
        "### Pertanyaan 2: Hari dengan jumlah sewa tertinggi"
      ]
    },
    {
      "cell_type": "code",
      "execution_count": 26,
      "metadata": {
        "id": "Go0lCsvO8DC2",
        "colab": {
          "base_uri": "https://localhost:8080/",
          "height": 675
        },
        "outputId": "e839a493-f92a-43b1-b276-94732f79a8f2"
      },
      "outputs": [
        {
          "output_type": "display_data",
          "data": {
            "text/plain": [
              "<Figure size 800x800 with 1 Axes>"
            ],
            "image/png": "[encoded data removed]"
          },
          "metadata": {}
        }
      ],
      "source": [
        "weekday_counts = cleaned_df_day.groupby(by=\"weekday\").cnt.count()\n",
        "\n",
        "plt.figure(figsize=(8, 8))\n",
        "weekday_counts.index = weekday_counts.index.map({0: 'Senin', 1: 'Selasa', 2: 'Rabu', 3: 'Kamis', 4: 'Jumat', 5: 'Sabtu', 6: 'Minggu'})\n",
        "plt.pie(weekday_counts, labels=weekday_counts.index, autopct='%1.1f%%', startangle=140)\n",
        "\n",
        "plt.title('Persentase Jumlah Sewa Berdasarkan Hari dalam Seminggu')\n",
        "plt.show()"
      ]
    },
    {
      "cell_type": "markdown",
      "metadata": {
        "id": "_WeHlCeX8DC2"
      },
      "source": [
        "## Conclusion"
      ]
    },
    {
      "cell_type": "markdown",
      "metadata": {
        "id": "ZTcyR48Y8DC2"
      },
      "source": [
        "- Jumlah sewa harian tertinggi terjadi pada musim Fall (gugur)\n",
        "- Jumlah sewa harian tertinggi terjadi pada Kamis atau Rabu"
      ]
    }
  ],
  "metadata": {
    "kernelspec": {
      "display_name": "Python 3",
      "language": "python",
      "name": "python3"
    },
    "language_info": {
      "name": "python",
      "version": "3.8.0 (tags/v3.8.0:fa919fd, Oct 14 2019, 19:21:23) [MSC v.1916 32 bit (Intel)]"
    },
    "orig_nbformat": 4,
    "vscode": {
      "interpreter": {
        "hash": "972b3bf27e332e87b5379f2791f6ef9dfc79c71018c370b0d7423235e20fe4d7"
      }
    },
    "colab": {
      "provenance": []
    }
  },
  "nbformat": 4,
  "nbformat_minor": 0
}